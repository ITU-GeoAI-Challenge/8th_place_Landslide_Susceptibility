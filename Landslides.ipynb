{
  "cells": [
    {
      "cell_type": "code",
      "execution_count": null,
      "id": "fddc3b04",
      "metadata": {
        "execution": {
          "iopub.execute_input": "2023-10-05T15:53:52.250749Z",
          "iopub.status.busy": "2023-10-05T15:53:52.249857Z",
          "iopub.status.idle": "2023-10-05T15:53:53.320420Z",
          "shell.execute_reply": "2023-10-05T15:53:53.318847Z"
        },
        "papermill": {
          "duration": 1.078182,
          "end_time": "2023-10-05T15:53:53.322778",
          "exception": false,
          "start_time": "2023-10-05T15:53:52.244596",
          "status": "completed"
        },
        "tags": [],
        "id": "fddc3b04"
      },
      "outputs": [],
      "source": [
        "import pandas as pd\n",
        "import numpy as np\n",
        "import geopandas as gpd\n",
        "\n",
        "import matplotlib.pyplot as plt\n",
        "import rasterio\n",
        "from rasterio.plot import show\n",
        "from shapely.ops import nearest_points\n"
      ]
    },
    {
      "cell_type": "code",
      "execution_count": null,
      "id": "bc86523f",
      "metadata": {
        "execution": {
          "iopub.execute_input": "2023-10-05T15:53:53.333872Z",
          "iopub.status.busy": "2023-10-05T15:53:53.333412Z",
          "iopub.status.idle": "2023-10-05T15:53:53.389045Z",
          "shell.execute_reply": "2023-10-05T15:53:53.387881Z"
        },
        "papermill": {
          "duration": 0.062216,
          "end_time": "2023-10-05T15:53:53.391656",
          "exception": false,
          "start_time": "2023-10-05T15:53:53.329440",
          "status": "completed"
        },
        "tags": [],
        "id": "bc86523f",
        "outputId": "ed2109f6-b2ec-4095-9754-f476011e73af"
      },
      "outputs": [
        {
          "name": "stdout",
          "output_type": "stream",
          "text": [
            "(12140, 2)\n",
            "(40000, 1)\n"
          ]
        }
      ],
      "source": [
        "tr_df = pd.read_csv('/kaggle/input/landslide/Train.csv')\n",
        "te_df = pd.read_csv('/kaggle/input/landslide/Test.csv')\n",
        "print(tr_df.shape)\n",
        "print(te_df.shape)"
      ]
    },
    {
      "cell_type": "code",
      "execution_count": null,
      "id": "b283def2",
      "metadata": {
        "execution": {
          "iopub.execute_input": "2023-10-05T15:53:53.399336Z",
          "iopub.status.busy": "2023-10-05T15:53:53.398790Z",
          "iopub.status.idle": "2023-10-05T15:54:08.062967Z",
          "shell.execute_reply": "2023-10-05T15:54:08.062105Z"
        },
        "papermill": {
          "duration": 14.671161,
          "end_time": "2023-10-05T15:54:08.065954",
          "exception": false,
          "start_time": "2023-10-05T15:53:53.394793",
          "status": "completed"
        },
        "tags": [],
        "id": "b283def2"
      },
      "outputs": [],
      "source": [
        "# Reaf Geodataframe\n",
        "tr_gdf = gpd.read_file('/kaggle/input/landslide/datasets/Train.gpkg')\n",
        "te_gdf = gpd.read_file('/kaggle/input/landslide/datasets/Test.gpkg')\n",
        "\n",
        "river_net_gdf = gpd.read_file('/kaggle/input/landslide/datasets/river_network.gpkg')\n",
        "road_net_gdf = gpd.read_file('/kaggle/input/landslide/datasets/road_network.gpkg')\n",
        "valtellina_gdf = gpd.read_file('/kaggle/input/landslide/datasets/valtellina.gpkg')\n",
        "lulc_gdf = gpd.read_file('/kaggle/input/landslide/datasets/land_use_land_cover.gpkg')\n",
        "geo_faults_gdf = gpd.read_file('/kaggle/input/landslide/datasets/geological_faults.gpkg')"
      ]
    },
    {
      "cell_type": "code",
      "execution_count": null,
      "id": "6dd8b807",
      "metadata": {
        "execution": {
          "iopub.execute_input": "2023-10-05T15:54:08.074237Z",
          "iopub.status.busy": "2023-10-05T15:54:08.073903Z",
          "iopub.status.idle": "2023-10-05T15:54:08.315309Z",
          "shell.execute_reply": "2023-10-05T15:54:08.313973Z"
        },
        "papermill": {
          "duration": 0.248229,
          "end_time": "2023-10-05T15:54:08.317703",
          "exception": false,
          "start_time": "2023-10-05T15:54:08.069474",
          "status": "completed"
        },
        "tags": [],
        "id": "6dd8b807"
      },
      "outputs": [],
      "source": [
        "avg_precip = rasterio.open('//kaggle/input/landslide/datasets/average_precipitation_2020.tif')\n",
        "perc_precip = rasterio.open('/kaggle/input/landslide/datasets/90_perc_precipitation_2020.tif')\n",
        "dtm =  rasterio.open('/kaggle/input/landslide/datasets/dtm.tif')"
      ]
    },
    {
      "cell_type": "code",
      "execution_count": null,
      "id": "8c49774f",
      "metadata": {
        "execution": {
          "iopub.execute_input": "2023-10-05T15:54:08.325256Z",
          "iopub.status.busy": "2023-10-05T15:54:08.324917Z",
          "iopub.status.idle": "2023-10-05T15:54:08.339042Z",
          "shell.execute_reply": "2023-10-05T15:54:08.337783Z"
        },
        "papermill": {
          "duration": 0.020516,
          "end_time": "2023-10-05T15:54:08.341343",
          "exception": false,
          "start_time": "2023-10-05T15:54:08.320827",
          "status": "completed"
        },
        "tags": [],
        "id": "8c49774f"
      },
      "outputs": [],
      "source": [
        "import rasterio\n",
        "from rasterio.mask import mask\n",
        "from shapely.geometry import shape, Point\n",
        "import random\n",
        "\n",
        "random.seed(2023)"
      ]
    },
    {
      "cell_type": "code",
      "execution_count": null,
      "id": "90ae861e",
      "metadata": {
        "execution": {
          "iopub.execute_input": "2023-10-05T15:54:08.349155Z",
          "iopub.status.busy": "2023-10-05T15:54:08.348788Z",
          "iopub.status.idle": "2023-10-05T15:54:16.118071Z",
          "shell.execute_reply": "2023-10-05T15:54:16.116349Z"
        },
        "papermill": {
          "duration": 7.776106,
          "end_time": "2023-10-05T15:54:16.120806",
          "exception": false,
          "start_time": "2023-10-05T15:54:08.344700",
          "status": "completed"
        },
        "tags": [],
        "id": "90ae861e"
      },
      "outputs": [],
      "source": [
        "# Function to generate random points within a training polygon - extract one point for each polygon\n",
        "def generate_points_within_polygon(polygon, num_points, polygon_id):\n",
        "    minx, miny, maxx, maxy = polygon.bounds\n",
        "    points = []\n",
        "    while len(points) < num_points:\n",
        "        x = random.uniform(minx, maxx)\n",
        "        y = random.uniform(miny, maxy)\n",
        "        point = Point(x, y)\n",
        "        if point.within(polygon):\n",
        "            points.append({'ID': polygon_id, 'geometry': point})\n",
        "    return points\n",
        "\n",
        "\n",
        "# Iterate over polygons\n",
        "all_points = []\n",
        "for idx, polygon in tr_gdf.iterrows():\n",
        "    polygon_geom = shape(polygon['geometry'])\n",
        "    polygon_id = polygon['ID']\n",
        "    num_points = 1  # Adjust the number of points as needed\n",
        "    points_within_polygon = generate_points_within_polygon(polygon_geom, num_points, polygon_id)\n",
        "    all_points.extend(points_within_polygon)\n",
        "\n",
        "tr_points_gdf = gpd.GeoDataFrame(all_points, geometry='geometry')\n"
      ]
    },
    {
      "cell_type": "code",
      "execution_count": null,
      "id": "078b1e91",
      "metadata": {
        "execution": {
          "iopub.execute_input": "2023-10-05T15:54:16.130562Z",
          "iopub.status.busy": "2023-10-05T15:54:16.130245Z",
          "iopub.status.idle": "2023-10-05T15:55:48.892367Z",
          "shell.execute_reply": "2023-10-05T15:55:48.890681Z"
        },
        "papermill": {
          "duration": 92.768707,
          "end_time": "2023-10-05T15:55:48.894476",
          "exception": false,
          "start_time": "2023-10-05T15:54:16.125769",
          "status": "completed"
        },
        "tags": [],
        "id": "078b1e91"
      },
      "outputs": [],
      "source": [
        "# Extract values of training points from raster data:\n",
        "## average_precipitation_2020, 90_perc_precipitation_2020, DTM\n",
        "with rasterio.Env():\n",
        "    sample_gen = avg_precip.sample(zip(tr_points_gdf['geometry'].x, tr_points_gdf['geometry'].y))\n",
        "    values = [val[0] for val in sample_gen]\n",
        "    tr_points_gdf['avg_precip'] = values\n",
        "\n",
        "    sample_gen = perc_precip.sample(zip(tr_points_gdf['geometry'].x, tr_points_gdf['geometry'].y))\n",
        "    values = [val[0] for val in sample_gen]\n",
        "    tr_points_gdf['perc_precip'] = values\n",
        "\n",
        "    sample_gen = dtm.sample(zip(tr_points_gdf['geometry'].x, tr_points_gdf['geometry'].y))\n",
        "    values = [val[0] for val in sample_gen]\n",
        "    tr_points_gdf['dtm'] = values\n",
        "\n",
        "# Extract values of testing points from raster data ,\n",
        "## average_precipitation_2020, 90_perc_precipitation_2020, DTM\n",
        "with rasterio.Env():\n",
        "    sample_gen = avg_precip.sample(zip(te_gdf['geometry'].x, te_gdf['geometry'].y))\n",
        "    values = [val[0] for val in sample_gen]\n",
        "    te_gdf['avg_precip'] = values\n",
        "\n",
        "    sample_gen = perc_precip.sample(zip(te_gdf['geometry'].x, te_gdf['geometry'].y))\n",
        "    values = [val[0] for val in sample_gen]\n",
        "    te_gdf['perc_precip'] = values\n",
        "\n",
        "    sample_gen = dtm.sample(zip(te_gdf['geometry'].x, te_gdf['geometry'].y))\n",
        "    values = [val[0] for val in sample_gen]\n",
        "    te_gdf['dtm'] = values"
      ]
    },
    {
      "cell_type": "code",
      "execution_count": null,
      "id": "111d2ff5",
      "metadata": {
        "execution": {
          "iopub.execute_input": "2023-10-05T15:55:48.903318Z",
          "iopub.status.busy": "2023-10-05T15:55:48.902911Z",
          "iopub.status.idle": "2023-10-05T15:55:48.941795Z",
          "shell.execute_reply": "2023-10-05T15:55:48.940886Z"
        },
        "papermill": {
          "duration": 0.045607,
          "end_time": "2023-10-05T15:55:48.944050",
          "exception": false,
          "start_time": "2023-10-05T15:55:48.898443",
          "status": "completed"
        },
        "tags": [],
        "id": "111d2ff5"
      },
      "outputs": [],
      "source": [
        "# Merge extrcted training points with tr_df to have all data in 1 dataframe\n",
        "tr_points_gdf = pd.merge(tr_points_gdf, tr_df, on=['ID'], how='inner')\n",
        "tr_points_gdf.crs = 'EPSG:32632'"
      ]
    },
    {
      "cell_type": "code",
      "execution_count": null,
      "id": "31f83e49",
      "metadata": {
        "execution": {
          "iopub.execute_input": "2023-10-05T15:55:48.951435Z",
          "iopub.status.busy": "2023-10-05T15:55:48.951138Z",
          "iopub.status.idle": "2023-10-05T16:11:37.842354Z",
          "shell.execute_reply": "2023-10-05T16:11:37.841034Z"
        },
        "papermill": {
          "duration": 948.897521,
          "end_time": "2023-10-05T16:11:37.844665",
          "exception": false,
          "start_time": "2023-10-05T15:55:48.947144",
          "status": "completed"
        },
        "scrolled": true,
        "tags": [],
        "id": "31f83e49",
        "outputId": "85a503ad-29a6-46e8-bc67-5f5d18c5e30c"
      },
      "outputs": [
        {
          "name": "stderr",
          "output_type": "stream",
          "text": [
            "/opt/conda/lib/python3.10/site-packages/geopandas/geodataframe.py:1538: PerformanceWarning: DataFrame is highly fragmented.  This is usually the result of calling `frame.insert` many times, which has poor performance.  Consider joining all columns at once using pd.concat(axis=1) instead. To get a de-fragmented frame, use `newframe = frame.copy()`\n",
            "  super().__setitem__(key, value)\n",
            "/opt/conda/lib/python3.10/site-packages/geopandas/geodataframe.py:1538: PerformanceWarning: DataFrame is highly fragmented.  This is usually the result of calling `frame.insert` many times, which has poor performance.  Consider joining all columns at once using pd.concat(axis=1) instead. To get a de-fragmented frame, use `newframe = frame.copy()`\n",
            "  super().__setitem__(key, value)\n",
            "/opt/conda/lib/python3.10/site-packages/geopandas/geodataframe.py:1538: PerformanceWarning: DataFrame is highly fragmented.  This is usually the result of calling `frame.insert` many times, which has poor performance.  Consider joining all columns at once using pd.concat(axis=1) instead. To get a de-fragmented frame, use `newframe = frame.copy()`\n",
            "  super().__setitem__(key, value)\n",
            "/opt/conda/lib/python3.10/site-packages/geopandas/geodataframe.py:1538: PerformanceWarning: DataFrame is highly fragmented.  This is usually the result of calling `frame.insert` many times, which has poor performance.  Consider joining all columns at once using pd.concat(axis=1) instead. To get a de-fragmented frame, use `newframe = frame.copy()`\n",
            "  super().__setitem__(key, value)\n",
            "/opt/conda/lib/python3.10/site-packages/geopandas/geodataframe.py:1538: PerformanceWarning: DataFrame is highly fragmented.  This is usually the result of calling `frame.insert` many times, which has poor performance.  Consider joining all columns at once using pd.concat(axis=1) instead. To get a de-fragmented frame, use `newframe = frame.copy()`\n",
            "  super().__setitem__(key, value)\n",
            "/opt/conda/lib/python3.10/site-packages/geopandas/geodataframe.py:1538: PerformanceWarning: DataFrame is highly fragmented.  This is usually the result of calling `frame.insert` many times, which has poor performance.  Consider joining all columns at once using pd.concat(axis=1) instead. To get a de-fragmented frame, use `newframe = frame.copy()`\n",
            "  super().__setitem__(key, value)\n",
            "/opt/conda/lib/python3.10/site-packages/geopandas/geodataframe.py:1538: PerformanceWarning: DataFrame is highly fragmented.  This is usually the result of calling `frame.insert` many times, which has poor performance.  Consider joining all columns at once using pd.concat(axis=1) instead. To get a de-fragmented frame, use `newframe = frame.copy()`\n",
            "  super().__setitem__(key, value)\n",
            "/opt/conda/lib/python3.10/site-packages/geopandas/geodataframe.py:1538: PerformanceWarning: DataFrame is highly fragmented.  This is usually the result of calling `frame.insert` many times, which has poor performance.  Consider joining all columns at once using pd.concat(axis=1) instead. To get a de-fragmented frame, use `newframe = frame.copy()`\n",
            "  super().__setitem__(key, value)\n",
            "/opt/conda/lib/python3.10/site-packages/geopandas/geodataframe.py:1538: PerformanceWarning: DataFrame is highly fragmented.  This is usually the result of calling `frame.insert` many times, which has poor performance.  Consider joining all columns at once using pd.concat(axis=1) instead. To get a de-fragmented frame, use `newframe = frame.copy()`\n",
            "  super().__setitem__(key, value)\n",
            "/opt/conda/lib/python3.10/site-packages/geopandas/geodataframe.py:1538: PerformanceWarning: DataFrame is highly fragmented.  This is usually the result of calling `frame.insert` many times, which has poor performance.  Consider joining all columns at once using pd.concat(axis=1) instead. To get a de-fragmented frame, use `newframe = frame.copy()`\n",
            "  super().__setitem__(key, value)\n",
            "/opt/conda/lib/python3.10/site-packages/geopandas/geodataframe.py:1538: PerformanceWarning: DataFrame is highly fragmented.  This is usually the result of calling `frame.insert` many times, which has poor performance.  Consider joining all columns at once using pd.concat(axis=1) instead. To get a de-fragmented frame, use `newframe = frame.copy()`\n",
            "  super().__setitem__(key, value)\n",
            "/opt/conda/lib/python3.10/site-packages/geopandas/geodataframe.py:1538: PerformanceWarning: DataFrame is highly fragmented.  This is usually the result of calling `frame.insert` many times, which has poor performance.  Consider joining all columns at once using pd.concat(axis=1) instead. To get a de-fragmented frame, use `newframe = frame.copy()`\n",
            "  super().__setitem__(key, value)\n",
            "/opt/conda/lib/python3.10/site-packages/geopandas/geodataframe.py:1538: PerformanceWarning: DataFrame is highly fragmented.  This is usually the result of calling `frame.insert` many times, which has poor performance.  Consider joining all columns at once using pd.concat(axis=1) instead. To get a de-fragmented frame, use `newframe = frame.copy()`\n",
            "  super().__setitem__(key, value)\n",
            "/opt/conda/lib/python3.10/site-packages/geopandas/geodataframe.py:1538: PerformanceWarning: DataFrame is highly fragmented.  This is usually the result of calling `frame.insert` many times, which has poor performance.  Consider joining all columns at once using pd.concat(axis=1) instead. To get a de-fragmented frame, use `newframe = frame.copy()`\n",
            "  super().__setitem__(key, value)\n",
            "/opt/conda/lib/python3.10/site-packages/geopandas/geodataframe.py:1538: PerformanceWarning: DataFrame is highly fragmented.  This is usually the result of calling `frame.insert` many times, which has poor performance.  Consider joining all columns at once using pd.concat(axis=1) instead. To get a de-fragmented frame, use `newframe = frame.copy()`\n",
            "  super().__setitem__(key, value)\n",
            "/opt/conda/lib/python3.10/site-packages/geopandas/geodataframe.py:1538: PerformanceWarning: DataFrame is highly fragmented.  This is usually the result of calling `frame.insert` many times, which has poor performance.  Consider joining all columns at once using pd.concat(axis=1) instead. To get a de-fragmented frame, use `newframe = frame.copy()`\n",
            "  super().__setitem__(key, value)\n",
            "/opt/conda/lib/python3.10/site-packages/geopandas/geodataframe.py:1538: PerformanceWarning: DataFrame is highly fragmented.  This is usually the result of calling `frame.insert` many times, which has poor performance.  Consider joining all columns at once using pd.concat(axis=1) instead. To get a de-fragmented frame, use `newframe = frame.copy()`\n",
            "  super().__setitem__(key, value)\n",
            "/opt/conda/lib/python3.10/site-packages/geopandas/geodataframe.py:1538: PerformanceWarning: DataFrame is highly fragmented.  This is usually the result of calling `frame.insert` many times, which has poor performance.  Consider joining all columns at once using pd.concat(axis=1) instead. To get a de-fragmented frame, use `newframe = frame.copy()`\n",
            "  super().__setitem__(key, value)\n",
            "/opt/conda/lib/python3.10/site-packages/geopandas/geodataframe.py:1538: PerformanceWarning: DataFrame is highly fragmented.  This is usually the result of calling `frame.insert` many times, which has poor performance.  Consider joining all columns at once using pd.concat(axis=1) instead. To get a de-fragmented frame, use `newframe = frame.copy()`\n",
            "  super().__setitem__(key, value)\n",
            "/opt/conda/lib/python3.10/site-packages/geopandas/geodataframe.py:1538: PerformanceWarning: DataFrame is highly fragmented.  This is usually the result of calling `frame.insert` many times, which has poor performance.  Consider joining all columns at once using pd.concat(axis=1) instead. To get a de-fragmented frame, use `newframe = frame.copy()`\n",
            "  super().__setitem__(key, value)\n",
            "/opt/conda/lib/python3.10/site-packages/geopandas/geodataframe.py:1538: PerformanceWarning: DataFrame is highly fragmented.  This is usually the result of calling `frame.insert` many times, which has poor performance.  Consider joining all columns at once using pd.concat(axis=1) instead. To get a de-fragmented frame, use `newframe = frame.copy()`\n",
            "  super().__setitem__(key, value)\n",
            "/opt/conda/lib/python3.10/site-packages/geopandas/geodataframe.py:1538: PerformanceWarning: DataFrame is highly fragmented.  This is usually the result of calling `frame.insert` many times, which has poor performance.  Consider joining all columns at once using pd.concat(axis=1) instead. To get a de-fragmented frame, use `newframe = frame.copy()`\n",
            "  super().__setitem__(key, value)\n",
            "/opt/conda/lib/python3.10/site-packages/geopandas/geodataframe.py:1538: PerformanceWarning: DataFrame is highly fragmented.  This is usually the result of calling `frame.insert` many times, which has poor performance.  Consider joining all columns at once using pd.concat(axis=1) instead. To get a de-fragmented frame, use `newframe = frame.copy()`\n",
            "  super().__setitem__(key, value)\n",
            "/opt/conda/lib/python3.10/site-packages/geopandas/geodataframe.py:1538: PerformanceWarning: DataFrame is highly fragmented.  This is usually the result of calling `frame.insert` many times, which has poor performance.  Consider joining all columns at once using pd.concat(axis=1) instead. To get a de-fragmented frame, use `newframe = frame.copy()`\n",
            "  super().__setitem__(key, value)\n",
            "/opt/conda/lib/python3.10/site-packages/geopandas/geodataframe.py:1538: PerformanceWarning: DataFrame is highly fragmented.  This is usually the result of calling `frame.insert` many times, which has poor performance.  Consider joining all columns at once using pd.concat(axis=1) instead. To get a de-fragmented frame, use `newframe = frame.copy()`\n",
            "  super().__setitem__(key, value)\n",
            "/opt/conda/lib/python3.10/site-packages/geopandas/geodataframe.py:1538: PerformanceWarning: DataFrame is highly fragmented.  This is usually the result of calling `frame.insert` many times, which has poor performance.  Consider joining all columns at once using pd.concat(axis=1) instead. To get a de-fragmented frame, use `newframe = frame.copy()`\n",
            "  super().__setitem__(key, value)\n",
            "/opt/conda/lib/python3.10/site-packages/geopandas/geodataframe.py:1538: PerformanceWarning: DataFrame is highly fragmented.  This is usually the result of calling `frame.insert` many times, which has poor performance.  Consider joining all columns at once using pd.concat(axis=1) instead. To get a de-fragmented frame, use `newframe = frame.copy()`\n",
            "  super().__setitem__(key, value)\n",
            "/opt/conda/lib/python3.10/site-packages/geopandas/geodataframe.py:1538: PerformanceWarning: DataFrame is highly fragmented.  This is usually the result of calling `frame.insert` many times, which has poor performance.  Consider joining all columns at once using pd.concat(axis=1) instead. To get a de-fragmented frame, use `newframe = frame.copy()`\n",
            "  super().__setitem__(key, value)\n",
            "/opt/conda/lib/python3.10/site-packages/geopandas/geodataframe.py:1538: PerformanceWarning: DataFrame is highly fragmented.  This is usually the result of calling `frame.insert` many times, which has poor performance.  Consider joining all columns at once using pd.concat(axis=1) instead. To get a de-fragmented frame, use `newframe = frame.copy()`\n",
            "  super().__setitem__(key, value)\n",
            "/opt/conda/lib/python3.10/site-packages/geopandas/geodataframe.py:1538: PerformanceWarning: DataFrame is highly fragmented.  This is usually the result of calling `frame.insert` many times, which has poor performance.  Consider joining all columns at once using pd.concat(axis=1) instead. To get a de-fragmented frame, use `newframe = frame.copy()`\n",
            "  super().__setitem__(key, value)\n",
            "/opt/conda/lib/python3.10/site-packages/geopandas/geodataframe.py:1538: PerformanceWarning: DataFrame is highly fragmented.  This is usually the result of calling `frame.insert` many times, which has poor performance.  Consider joining all columns at once using pd.concat(axis=1) instead. To get a de-fragmented frame, use `newframe = frame.copy()`\n",
            "  super().__setitem__(key, value)\n",
            "/opt/conda/lib/python3.10/site-packages/geopandas/geodataframe.py:1538: PerformanceWarning: DataFrame is highly fragmented.  This is usually the result of calling `frame.insert` many times, which has poor performance.  Consider joining all columns at once using pd.concat(axis=1) instead. To get a de-fragmented frame, use `newframe = frame.copy()`\n",
            "  super().__setitem__(key, value)\n",
            "/opt/conda/lib/python3.10/site-packages/geopandas/geodataframe.py:1538: PerformanceWarning: DataFrame is highly fragmented.  This is usually the result of calling `frame.insert` many times, which has poor performance.  Consider joining all columns at once using pd.concat(axis=1) instead. To get a de-fragmented frame, use `newframe = frame.copy()`\n",
            "  super().__setitem__(key, value)\n",
            "/opt/conda/lib/python3.10/site-packages/geopandas/geodataframe.py:1538: PerformanceWarning: DataFrame is highly fragmented.  This is usually the result of calling `frame.insert` many times, which has poor performance.  Consider joining all columns at once using pd.concat(axis=1) instead. To get a de-fragmented frame, use `newframe = frame.copy()`\n",
            "  super().__setitem__(key, value)\n",
            "/opt/conda/lib/python3.10/site-packages/geopandas/geodataframe.py:1538: PerformanceWarning: DataFrame is highly fragmented.  This is usually the result of calling `frame.insert` many times, which has poor performance.  Consider joining all columns at once using pd.concat(axis=1) instead. To get a de-fragmented frame, use `newframe = frame.copy()`\n",
            "  super().__setitem__(key, value)\n",
            "/opt/conda/lib/python3.10/site-packages/geopandas/geodataframe.py:1538: PerformanceWarning: DataFrame is highly fragmented.  This is usually the result of calling `frame.insert` many times, which has poor performance.  Consider joining all columns at once using pd.concat(axis=1) instead. To get a de-fragmented frame, use `newframe = frame.copy()`\n",
            "  super().__setitem__(key, value)\n",
            "/opt/conda/lib/python3.10/site-packages/geopandas/geodataframe.py:1538: PerformanceWarning: DataFrame is highly fragmented.  This is usually the result of calling `frame.insert` many times, which has poor performance.  Consider joining all columns at once using pd.concat(axis=1) instead. To get a de-fragmented frame, use `newframe = frame.copy()`\n",
            "  super().__setitem__(key, value)\n",
            "/opt/conda/lib/python3.10/site-packages/geopandas/geodataframe.py:1538: PerformanceWarning: DataFrame is highly fragmented.  This is usually the result of calling `frame.insert` many times, which has poor performance.  Consider joining all columns at once using pd.concat(axis=1) instead. To get a de-fragmented frame, use `newframe = frame.copy()`\n",
            "  super().__setitem__(key, value)\n",
            "/opt/conda/lib/python3.10/site-packages/geopandas/geodataframe.py:1538: PerformanceWarning: DataFrame is highly fragmented.  This is usually the result of calling `frame.insert` many times, which has poor performance.  Consider joining all columns at once using pd.concat(axis=1) instead. To get a de-fragmented frame, use `newframe = frame.copy()`\n",
            "  super().__setitem__(key, value)\n"
          ]
        }
      ],
      "source": [
        "# Compute the nearest distance from each point to each river segement\n",
        "\n",
        "## Training points\n",
        "for _, river_row in river_net_gdf.iterrows():\n",
        "    river_segment = river_row['geometry']  # geometry of the river segment\n",
        "    river_id = river_row['Objectid']\n",
        "\n",
        "\n",
        "    tr_points_gdf[f'distance_to_river{river_id}'] = None\n",
        "    for index, point_row in tr_points_gdf.iterrows():\n",
        "        point = point_row['geometry']  # geometry of the poin\n",
        "\n",
        "        # Find the nearest point on the river segment\n",
        "        nearest_point_on_river = nearest_points(point, river_segment)\n",
        "\n",
        "        # Calculate the distance between the point and the nearest point on the river segment\n",
        "        distance = point.distance(nearest_point_on_river[1])\n",
        "\n",
        "        tr_points_gdf.at[index, f'distance_to_river{river_id}'] = distance\n",
        "\n",
        "\n",
        "## Testing points\n",
        "for _, river_row in river_net_gdf.iterrows():\n",
        "    river_segment = river_row['geometry']  # geometry of the river segment\n",
        "    river_id = river_row['Objectid']\n",
        "\n",
        "\n",
        "    te_gdf[f'distance_to_river{river_id}'] = None\n",
        "\n",
        "    for index, point_row in te_gdf.iterrows():\n",
        "        point = point_row['geometry']  # geometry of the poin\n",
        "\n",
        "        # Find the nearest point on the river segment\n",
        "        nearest_point_on_river = nearest_points(point, river_segment)\n",
        "\n",
        "        # Calculate the distance between the point and the nearest point on the river segment\n",
        "        distance = point.distance(nearest_point_on_river[1])\n",
        "\n",
        "        te_gdf.at[index, f'distance_to_river{river_id}'] = float(distance)"
      ]
    },
    {
      "cell_type": "code",
      "execution_count": null,
      "id": "d3fe99ed",
      "metadata": {
        "execution": {
          "iopub.execute_input": "2023-10-05T16:11:37.854887Z",
          "iopub.status.busy": "2023-10-05T16:11:37.854525Z",
          "iopub.status.idle": "2023-10-05T16:11:46.760062Z",
          "shell.execute_reply": "2023-10-05T16:11:46.759121Z"
        },
        "papermill": {
          "duration": 8.912876,
          "end_time": "2023-10-05T16:11:46.762037",
          "exception": false,
          "start_time": "2023-10-05T16:11:37.849161",
          "status": "completed"
        },
        "tags": [],
        "id": "d3fe99ed",
        "outputId": "0a6e3051-ddad-43cd-f7f7-813b72b36b9e"
      },
      "outputs": [
        {
          "name": "stderr",
          "output_type": "stream",
          "text": [
            "/opt/conda/lib/python3.10/site-packages/IPython/core/interactiveshell.py:3448: FutureWarning: The `op` parameter is deprecated and will be removed in a future release. Please use the `predicate` parameter instead.\n",
            "  if await self.run_code(code, result, async_=asy):\n",
            "/opt/conda/lib/python3.10/site-packages/IPython/core/interactiveshell.py:3448: FutureWarning: The `op` parameter is deprecated and will be removed in a future release. Please use the `predicate` parameter instead.\n",
            "  if await self.run_code(code, result, async_=asy):\n"
          ]
        }
      ],
      "source": [
        "# extract the land cover information for each point using land_use_land_cover gdf\n",
        "\n",
        "tr_with_landcover = gpd.sjoin(tr_points_gdf, lulc_gdf, how='left', op='within')\n",
        "tr_with_landcover = tr_with_landcover.drop(columns=['index_right'])\n",
        "\n",
        "te_with_landcover = gpd.sjoin(te_gdf, lulc_gdf, how='left', op='within')\n",
        "te_with_landcover = te_with_landcover.drop(columns=['index_right'])"
      ]
    },
    {
      "cell_type": "code",
      "execution_count": null,
      "id": "3e4e5081",
      "metadata": {
        "execution": {
          "iopub.execute_input": "2023-10-05T16:11:46.772996Z",
          "iopub.status.busy": "2023-10-05T16:11:46.772543Z",
          "iopub.status.idle": "2023-10-05T16:11:46.852919Z",
          "shell.execute_reply": "2023-10-05T16:11:46.851361Z"
        },
        "papermill": {
          "duration": 0.088808,
          "end_time": "2023-10-05T16:11:46.855521",
          "exception": false,
          "start_time": "2023-10-05T16:11:46.766713",
          "status": "completed"
        },
        "tags": [],
        "id": "3e4e5081"
      },
      "outputs": [],
      "source": [
        "# Encoding the extracted land use/cover\n",
        "\n",
        "te_with_landcover['2-DESCRIZIONE'] = te_with_landcover['2-DESCRIZIONE'].astype('category')\n",
        "tr_with_landcover['2-DESCRIZIONE'] = tr_with_landcover['2-DESCRIZIONE'].astype('category')\n",
        "\n",
        "tr_with_landcover['land_encoded'] = tr_with_landcover['2-DESCRIZIONE'].cat.codes\n",
        "te_with_landcover['land_encoded'] = te_with_landcover['2-DESCRIZIONE'].cat.codes\n",
        "\n",
        "tr_with_landcover = tr_with_landcover.drop(columns=['2-DESCRIZIONE'])\n",
        "te_with_landcover = te_with_landcover.drop(columns=['2-DESCRIZIONE'])"
      ]
    },
    {
      "cell_type": "markdown",
      "id": "144c01c3",
      "metadata": {
        "papermill": {
          "duration": 0.004787,
          "end_time": "2023-10-05T16:11:46.865769",
          "exception": false,
          "start_time": "2023-10-05T16:11:46.860982",
          "status": "completed"
        },
        "tags": [],
        "id": "144c01c3"
      },
      "source": [
        "### Modeling"
      ]
    },
    {
      "cell_type": "code",
      "execution_count": null,
      "id": "a29aaaed",
      "metadata": {
        "execution": {
          "iopub.execute_input": "2023-10-05T16:11:46.878229Z",
          "iopub.status.busy": "2023-10-05T16:11:46.877947Z",
          "iopub.status.idle": "2023-10-05T16:11:48.843126Z",
          "shell.execute_reply": "2023-10-05T16:11:48.841274Z"
        },
        "papermill": {
          "duration": 1.974804,
          "end_time": "2023-10-05T16:11:48.845278",
          "exception": false,
          "start_time": "2023-10-05T16:11:46.870474",
          "status": "completed"
        },
        "tags": [],
        "id": "a29aaaed"
      },
      "outputs": [],
      "source": [
        "from sklearn.metrics import accuracy_score\n",
        "from sklearn.model_selection import StratifiedKFold\n",
        "from catboost import CatBoostClassifier"
      ]
    },
    {
      "cell_type": "code",
      "execution_count": null,
      "id": "4fd46497",
      "metadata": {
        "execution": {
          "iopub.execute_input": "2023-10-05T16:11:48.856142Z",
          "iopub.status.busy": "2023-10-05T16:11:48.855870Z",
          "iopub.status.idle": "2023-10-05T16:11:48.901599Z",
          "shell.execute_reply": "2023-10-05T16:11:48.899668Z"
        },
        "papermill": {
          "duration": 0.054307,
          "end_time": "2023-10-05T16:11:48.904352",
          "exception": false,
          "start_time": "2023-10-05T16:11:48.850045",
          "status": "completed"
        },
        "tags": [],
        "id": "4fd46497"
      },
      "outputs": [],
      "source": [
        "X1 = tr_with_landcover.drop(['ID', 'geometry', 'Target'], axis = 1)\n",
        "X_test1 = te_with_landcover.drop(['ID',  'geometry'], axis = 1)\n",
        "\n",
        "y = tr_with_landcover.Target"
      ]
    },
    {
      "cell_type": "code",
      "execution_count": null,
      "id": "d62dbd02",
      "metadata": {
        "execution": {
          "iopub.execute_input": "2023-10-05T16:11:48.915084Z",
          "iopub.status.busy": "2023-10-05T16:11:48.914698Z",
          "iopub.status.idle": "2023-10-05T16:11:49.074602Z",
          "shell.execute_reply": "2023-10-05T16:11:49.073959Z"
        },
        "papermill": {
          "duration": 0.16746,
          "end_time": "2023-10-05T16:11:49.076619",
          "exception": false,
          "start_time": "2023-10-05T16:11:48.909159",
          "status": "completed"
        },
        "tags": [],
        "id": "d62dbd02"
      },
      "outputs": [],
      "source": [
        "X1 = X1.astype(float)\n",
        "X_test1 = X_test1.astype(float)"
      ]
    },
    {
      "cell_type": "code",
      "execution_count": null,
      "id": "82c85a3d",
      "metadata": {
        "execution": {
          "iopub.execute_input": "2023-10-05T16:11:49.087802Z",
          "iopub.status.busy": "2023-10-05T16:11:49.087327Z",
          "iopub.status.idle": "2023-10-05T16:13:39.399534Z",
          "shell.execute_reply": "2023-10-05T16:13:39.398768Z"
        },
        "papermill": {
          "duration": 110.320382,
          "end_time": "2023-10-05T16:13:39.401734",
          "exception": false,
          "start_time": "2023-10-05T16:11:49.081352",
          "status": "completed"
        },
        "scrolled": true,
        "tags": [],
        "id": "82c85a3d",
        "outputId": "073bb3fe-bbd9-44c1-8fa6-06a2a16c5e70"
      },
      "outputs": [
        {
          "name": "stdout",
          "output_type": "stream",
          "text": [
            "########### Fold number 1 \n",
            "0:\tlearn: 0.6497458\ttest: 0.6508709\tbest: 0.6508709 (0)\ttotal: 75.6ms\tremaining: 37m 46s\n",
            "500:\tlearn: 0.1841604\ttest: 0.2709119\tbest: 0.2709119 (500)\ttotal: 6.97s\tremaining: 6m 50s\n",
            "1000:\tlearn: 0.1348277\ttest: 0.2648398\tbest: 0.2647349 (997)\ttotal: 13.8s\tremaining: 6m 38s\n",
            "Stopped by overfitting detector  (300 iterations wait)\n",
            "\n",
            "bestTest = 0.263896489\n",
            "bestIteration = 1133\n",
            "\n",
            "Shrink model to first 1134 iterations.\n",
            "Accuracy Score: 0.9023887973640856\n",
            "########### Fold number 2 \n",
            "0:\tlearn: 0.6487569\ttest: 0.6484940\tbest: 0.6484940 (0)\ttotal: 18.5ms\tremaining: 9m 14s\n",
            "500:\tlearn: 0.1862589\ttest: 0.2616308\tbest: 0.2616308 (500)\ttotal: 6.93s\tremaining: 6m 47s\n",
            "1000:\tlearn: 0.1371856\ttest: 0.2538114\tbest: 0.2537624 (990)\ttotal: 14s\tremaining: 6m 46s\n",
            "Stopped by overfitting detector  (300 iterations wait)\n",
            "\n",
            "bestTest = 0.2536292159\n",
            "bestIteration = 1009\n",
            "\n",
            "Shrink model to first 1010 iterations.\n",
            "Accuracy Score: 0.9069192751235585\n",
            "########### Fold number 3 \n",
            "0:\tlearn: 0.6503108\ttest: 0.6505833\tbest: 0.6505833 (0)\ttotal: 19.2ms\tremaining: 9m 34s\n",
            "500:\tlearn: 0.1824769\ttest: 0.2723081\tbest: 0.2722511 (497)\ttotal: 6.93s\tremaining: 6m 47s\n",
            "1000:\tlearn: 0.1348257\ttest: 0.2674441\tbest: 0.2674151 (995)\ttotal: 14.2s\tremaining: 6m 52s\n",
            "1500:\tlearn: 0.1052824\ttest: 0.2648217\tbest: 0.2647812 (1481)\ttotal: 21.3s\tremaining: 6m 44s\n",
            "Stopped by overfitting detector  (300 iterations wait)\n",
            "\n",
            "bestTest = 0.2646585512\n",
            "bestIteration = 1510\n",
            "\n",
            "Shrink model to first 1511 iterations.\n",
            "Accuracy Score: 0.9023887973640856\n",
            "########### Fold number 4 \n",
            "0:\tlearn: 0.6486837\ttest: 0.6485586\tbest: 0.6485586 (0)\ttotal: 18.9ms\tremaining: 9m 28s\n",
            "500:\tlearn: 0.1852137\ttest: 0.2687875\tbest: 0.2686177 (489)\ttotal: 6.96s\tremaining: 6m 49s\n",
            "1000:\tlearn: 0.1350364\ttest: 0.2606473\tbest: 0.2604525 (978)\ttotal: 13.8s\tremaining: 6m 39s\n",
            "1500:\tlearn: 0.1055112\ttest: 0.2615465\tbest: 0.2602788 (1259)\ttotal: 20.8s\tremaining: 6m 35s\n",
            "Stopped by overfitting detector  (300 iterations wait)\n",
            "\n",
            "bestTest = 0.2602788193\n",
            "bestIteration = 1259\n",
            "\n",
            "Shrink model to first 1260 iterations.\n",
            "Accuracy Score: 0.9052718286655683\n",
            "########### Fold number 5 \n",
            "0:\tlearn: 0.6496206\ttest: 0.6501124\tbest: 0.6501124 (0)\ttotal: 17.5ms\tremaining: 8m 44s\n",
            "500:\tlearn: 0.1863048\ttest: 0.2704250\tbest: 0.2704250 (500)\ttotal: 6.94s\tremaining: 6m 48s\n",
            "1000:\tlearn: 0.1388121\ttest: 0.2626063\tbest: 0.2624161 (982)\ttotal: 13.8s\tremaining: 6m 39s\n",
            "1500:\tlearn: 0.1080648\ttest: 0.2612825\tbest: 0.2606066 (1325)\ttotal: 20.9s\tremaining: 6m 36s\n",
            "Stopped by overfitting detector  (300 iterations wait)\n",
            "\n",
            "bestTest = 0.2606065615\n",
            "bestIteration = 1325\n",
            "\n",
            "Shrink model to first 1326 iterations.\n",
            "Accuracy Score: 0.9015650741350906\n",
            "Mean accuracy: 0.9037067545304778\n"
          ]
        }
      ],
      "source": [
        "skf = StratifiedKFold(n_splits=5,shuffle=True, random_state=2023) # for cross validation\n",
        "catscores = []\n",
        "catpreds= []\n",
        "\n",
        "\n",
        "# Creating loop for the stratified k fold\n",
        "i = 0\n",
        "for train, val in skf.split(X1, y):\n",
        "    print(f'########### Fold number {i+1} ')\n",
        "\n",
        "    # spliting the data\n",
        "    x_train, x_val, y_train, y_val = X1.iloc[train], X1.iloc[val], y.iloc[train], y.iloc[val]\n",
        "\n",
        "    clf = CatBoostClassifier(iterations=30000,  has_time=True ,bootstrap_type='No',random_strength=0,\n",
        "                                   learning_rate=0.05,use_best_model=True,\n",
        "                                   random_seed=2023)\n",
        "    # fitting on train data\n",
        "    clf.fit( x_train, y_train, eval_set = (x_val,y_val),verbose=500 ,early_stopping_rounds=300)\n",
        "\n",
        "    # Making predictions\n",
        "    y_pred = clf.predict(x_val)\n",
        "\n",
        "    # Measuring the accuracy of the model\n",
        "    score = accuracy_score(y_val, y_pred)\n",
        "    print(f'Accuracy Score: {score}')\n",
        "    catscores.append(score)\n",
        "\n",
        "    preds = clf.predict_proba(X_test1)\n",
        "    catpreds.append(preds)\n",
        "    i+=1\n",
        "\n",
        "\n",
        "print(f'Mean accuracy: {np.mean(catscores)}')"
      ]
    },
    {
      "cell_type": "code",
      "execution_count": null,
      "id": "b2d35c07",
      "metadata": {
        "execution": {
          "iopub.execute_input": "2023-10-05T16:13:39.413855Z",
          "iopub.status.busy": "2023-10-05T16:13:39.413558Z",
          "iopub.status.idle": "2023-10-05T16:13:39.487265Z",
          "shell.execute_reply": "2023-10-05T16:13:39.485843Z"
        },
        "papermill": {
          "duration": 0.082477,
          "end_time": "2023-10-05T16:13:39.489697",
          "exception": false,
          "start_time": "2023-10-05T16:13:39.407220",
          "status": "completed"
        },
        "tags": [],
        "id": "b2d35c07"
      },
      "outputs": [],
      "source": [
        "submission = pd.read_csv('/kaggle/input/landslide/SampleSubmission.csv')\n",
        "\n",
        "catpreds_mean = np.mean(catpreds, axis=0)\n",
        "predictions = np.argmax(catpreds_mean, axis=1)\n",
        "submission['Target'] = predictions\n",
        "submission.to_csv('predictions.csv', index=False )"
      ]
    }
  ],
  "metadata": {
    "kernelspec": {
      "display_name": "Python 3",
      "language": "python",
      "name": "python3"
    },
    "language_info": {
      "codemirror_mode": {
        "name": "ipython",
        "version": 3
      },
      "file_extension": ".py",
      "mimetype": "text/x-python",
      "name": "python",
      "nbconvert_exporter": "python",
      "pygments_lexer": "ipython3",
      "version": "3.10.12"
    },
    "papermill": {
      "default_parameters": {},
      "duration": 1191.328426,
      "end_time": "2023-10-05T16:13:40.826300",
      "environment_variables": {},
      "exception": null,
      "input_path": "__notebook__.ipynb",
      "output_path": "__notebook__.ipynb",
      "parameters": {},
      "start_time": "2023-10-05T15:53:49.497874",
      "version": "2.4.0"
    },
    "colab": {
      "provenance": []
    }
  },
  "nbformat": 4,
  "nbformat_minor": 5
}